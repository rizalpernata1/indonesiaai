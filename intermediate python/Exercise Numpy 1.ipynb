{
 "cells": [
  {
   "cell_type": "markdown",
   "id": "2f948969",
   "metadata": {},
   "source": [
    "## Create a matrix from a list which has 4 rows and 3 columns"
   ]
  },
  {
   "cell_type": "code",
   "execution_count": null,
   "id": "4934500d",
   "metadata": {},
   "outputs": [],
   "source": [
    "pip install numpy"
   ]
  },
  {
   "cell_type": "code",
   "execution_count": 2,
   "id": "edcade99",
   "metadata": {},
   "outputs": [],
   "source": [
    "import numpy as np"
   ]
  },
  {
   "cell_type": "code",
   "execution_count": null,
   "id": "80fd771b",
   "metadata": {},
   "outputs": [],
   "source": [
    "versilist = [[1,2,3], [4,5,6], [7,8,9], [10,11,12]]\n",
    "versilist"
   ]
  },
  {
   "cell_type": "code",
   "execution_count": null,
   "id": "b6657c3a",
   "metadata": {},
   "outputs": [],
   "source": [
    "versinumpy = np.array(versilist)\n",
    "versinumpy"
   ]
  },
  {
   "cell_type": "code",
   "execution_count": null,
   "id": "b3fd2234",
   "metadata": {},
   "outputs": [],
   "source": [
    "versinumpy.shape"
   ]
  },
  {
   "cell_type": "markdown",
   "id": "e57d9361",
   "metadata": {},
   "source": [
    "## create matrix "
   ]
  },
  {
   "cell_type": "code",
   "execution_count": null,
   "id": "1da6b319",
   "metadata": {},
   "outputs": [],
   "source": [
    "versilist1 = [[2,7,12,0], [3,9,3,4], [4,0,1,3]]\n",
    "versilist1"
   ]
  },
  {
   "cell_type": "code",
   "execution_count": null,
   "id": "f1b49763",
   "metadata": {},
   "outputs": [],
   "source": [
    "versinumpy1 = np.array(versilist1)\n",
    "versinumpy1"
   ]
  },
  {
   "cell_type": "markdown",
   "id": "b30e21b0",
   "metadata": {},
   "source": [
    "## create a 2D matrix with size of 10"
   ]
  },
  {
   "cell_type": "code",
   "execution_count": null,
   "id": "ccf39a58",
   "metadata": {},
   "outputs": [],
   "source": [
    "a = np.arange(1,11)\n",
    "a"
   ]
  },
  {
   "cell_type": "code",
   "execution_count": null,
   "id": "cdeae716",
   "metadata": {},
   "outputs": [],
   "source": [
    "a.reshape(2,5)"
   ]
  },
  {
   "cell_type": "code",
   "execution_count": null,
   "id": "96f940d7",
   "metadata": {},
   "outputs": [],
   "source": [
    "a.size"
   ]
  },
  {
   "cell_type": "markdown",
   "id": "2b1016fc",
   "metadata": {},
   "source": [
    "## create a 3D matrix of  ones which has 2 rows, 3 columns, 3 depth"
   ]
  },
  {
   "cell_type": "code",
   "execution_count": null,
   "id": "f601a3cd",
   "metadata": {},
   "outputs": [],
   "source": [
    "b = np.ones((2,3,3))\n",
    "b"
   ]
  },
  {
   "cell_type": "code",
   "execution_count": null,
   "id": "326979de",
   "metadata": {},
   "outputs": [],
   "source": [
    "b.shape"
   ]
  },
  {
   "cell_type": "markdown",
   "id": "4af1646a",
   "metadata": {},
   "source": [
    "## make the following arrays from zeros arrays and with for loops"
   ]
  },
  {
   "cell_type": "code",
   "execution_count": 3,
   "id": "3af332bf",
   "metadata": {},
   "outputs": [
    {
     "data": {
      "text/plain": [
       "array([[0., 0., 0.],\n",
       "       [0., 0., 0.],\n",
       "       [0., 0., 0.],\n",
       "       [0., 0., 0.],\n",
       "       [0., 0., 0.]])"
      ]
     },
     "execution_count": 3,
     "metadata": {},
     "output_type": "execute_result"
    }
   ],
   "source": [
    "c = np.zeros((5,3))\n",
    "c"
   ]
  },
  {
   "cell_type": "code",
   "execution_count": 4,
   "id": "9d9459be",
   "metadata": {},
   "outputs": [
    {
     "data": {
      "text/plain": [
       "array([[2., 2., 2.],\n",
       "       [2., 2., 2.],\n",
       "       [2., 2., 2.],\n",
       "       [2., 2., 2.],\n",
       "       [2., 2., 2.]])"
      ]
     },
     "execution_count": 4,
     "metadata": {},
     "output_type": "execute_result"
    }
   ],
   "source": [
    "for i in range(len(c)):\n",
    "    for j in range(len(c[0])):\n",
    "        c[i][j] += 2\n",
    "        \n",
    "c"
   ]
  },
  {
   "cell_type": "code",
   "execution_count": null,
   "id": "7bfb48d8",
   "metadata": {},
   "outputs": [],
   "source": []
  }
 ],
 "metadata": {
  "kernelspec": {
   "display_name": "Python 3 (ipykernel)",
   "language": "python",
   "name": "python3"
  },
  "language_info": {
   "codemirror_mode": {
    "name": "ipython",
    "version": 3
   },
   "file_extension": ".py",
   "mimetype": "text/x-python",
   "name": "python",
   "nbconvert_exporter": "python",
   "pygments_lexer": "ipython3",
   "version": "3.10.4"
  }
 },
 "nbformat": 4,
 "nbformat_minor": 5
}
